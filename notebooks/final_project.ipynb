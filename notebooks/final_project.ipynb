{
 "cells": [
  {
   "cell_type": "markdown",
   "metadata": {
    "vscode": {
     "languageId": "plaintext"
    }
   },
   "source": [
    "# Simulation and Inference for Neuroscience\n",
    "## Final Project: Parameter inference for the pyloric network\n",
    "\n",
    "The notebook below contains the final project.\n",
    "The final project is meant to be a bit more open-endend and less structured than the exercises. You are free to answer the questions below as you see fit and you can re-use as much of your previous code as you want. You will work be graded in groups of 2, but you are welcome to collaborate with others. \n",
    "\n",
    "If you need additional dependencies to solve any of the questions, feel free to install and/or import them. Make sure you document your process and thinking, such that it is clear how you arrived at your final answer.\n",
    "\n",
    "The project will be graded based on a brief presentation and a follow-up interview about your code and results (10-15min). Take note of the following:\n",
    "- Make sure you understand what you are doing and you can explain / defend your analysis.\n",
    "- Ensure you're notebook is presentable and easy to follow. Intermediate results should be backed up by plots (and / or printouts). Plots should be readable\n",
    "- You should be able to present what you did with the help of your plots in about 2-5 minutes.\n",
    "- Make sure the notebook can be run from start to finish without errors (if you cache intermediate results, it is fine to load them).\n",
    "- We encourage the use of coding assistants.\n",
    "\n",
    "\n",
    "**Before you start, please add your name below!**\n",
    "\n",
    "**Names:** _Firstname Lastname, Firstname Lastname_\n",
    "\n",
    "---"
   ]
  },
  {
   "cell_type": "markdown",
   "metadata": {
    "vscode": {
     "languageId": "plaintext"
    }
   },
   "source": [
    "In the following project you will perform parameter inference on the pyloric network of the stomatogastric ganglion (STG) of crustaceans.\n",
    "\n",
    "The pyloric network of the stomatogastric ganglion (STG) is a well-studied component of the crustacean nervous system that provides valuable insights into neural circuit function. Computational models of the pyloric network have been instrumental in understanding how neural circuits maintain functional stability despite biological variability and perturbations. It consists of about 14 neurons that generate a rhythmic motor pattern controlling the pylorus of the crustacean stomach that are connected by a set of Cholinergic and Glutamatergic synapses.\n",
    "\n",
    "The key neuron types include:\n",
    "- Anterior Burster (AB) neuron\n",
    "- Pyloric Dilator (PD) neurons\n",
    "- Lateral Pyloric (LP) neuron\n",
    "- Pyloric (PY) neurons\n",
    "\n",
    "The simplified model that we will be using in the following approximates all neurons of the same type with a single compartmental model and also treats the electrically coupled AB and PD neurons as a single neuron. This leads to the following circuit:\n",
    "\n",
    "![pyloric network](../assets/pyloric_schematic.png)\n",
    "\n",
    "For more context you can read the following papers:\n",
    "- [Similar network activity from disparate circuit parameters](../assets/nn1352.pdf)\n",
    "- [Alternative to hand-tuning conductance-based models](../assets/alternative-to-hand-tuning-conductance-based-models-tqk0oa7i15.pdf)\n",
    "- [Training deep neural density estimators to identify mechanistic models of neural dynamics](../assets/elife-56261-v3-4.pdf)\n",
    "\n",
    "In this project, we will focus on inferring parameters of the synapses.\n"
   ]
  },
  {
   "cell_type": "code",
   "execution_count": 1,
   "metadata": {},
   "outputs": [],
   "source": [
    "# configure jax to use 64bit precision and cpu\n",
    "from jax import config\n",
    "\n",
    "config.update(\"jax_enable_x64\", True)\n",
    "config.update(\"jax_platform_name\", \"cpu\")\n",
    "\n",
    "import os\n",
    "os.environ[\"XLA_PYTHON_CLIENT_MEM_FRACTION\"] = \".8\""
   ]
  },
  {
   "cell_type": "code",
   "execution_count": 2,
   "metadata": {},
   "outputs": [],
   "source": [
    "import sys\n",
    "sys.path.append(\"..\")\n",
    "\n",
    "from pyloric import PyloricNetwork\n",
    "import jaxley as jx\n",
    "import jax.numpy as jnp\n",
    "import matplotlib.pyplot as plt\n",
    "from jax import jit, vmap\n",
    "import numpy as np\n",
    "import jax\n",
    "\n",
    "import torch\n",
    "from torch import Tensor\n",
    "from numpy import ndarray\n",
    "from typing import Union, Optional, Tuple\n"
   ]
  },
  {
   "cell_type": "code",
   "execution_count": 3,
   "metadata": {},
   "outputs": [],
   "source": [
    "# utils\n",
    "def plot_pyloric(ts: Union[ndarray, Tensor], v: Union[ndarray, Tensor], axs: Optional[plt.Axes] = None, **kwargs) -> Tuple[plt.Figure, plt.Axes]:\n",
    "    \"\"\"Plot the voltage of the pyloric network for each neuron.\n",
    "\n",
    "    Args:\n",
    "        ts: The time points to plot.\n",
    "        v: The voltage of the pyloric network.\n",
    "        axs: The axes to plot on. Allows to plot multiple traces in one figure.\n",
    "\n",
    "    Returns:\n",
    "        fig: The figure.\n",
    "        axs: The axes.\n",
    "    \"\"\"\n",
    "    if axs is None:\n",
    "        fig, axs = plt.subplots(3, 1, figsize=(10, 5), sharex=True, layout='constrained')\n",
    "    for ax_i, v_i in zip(axs, v):\n",
    "        ax_i.plot(ts, v_i, **kwargs)\n",
    "        ax_i.set_ylabel('V (mV)')\n",
    "    axs[0].set_title(f'AB/PD')\n",
    "    axs[1].set_title(f'LP')\n",
    "    axs[2].set_title(f'PY')\n",
    "    axs[2].set_xlabel('t (ms)')\n",
    "    return fig, axs"
   ]
  },
  {
   "cell_type": "code",
   "execution_count": null,
   "metadata": {},
   "outputs": [],
   "source": [
    "net = PyloricNetwork() # instantiate the pyloric circuit model\n",
    "net.record() # record the voltage of all neurons\n",
    "net.init_states() # initialize the states\n",
    "\n",
    "# set up the simulation parameters (no stimulus needed)\n",
    "dt = 0.025\n",
    "t_max = 4_000\n",
    "ts = jnp.arange(0, t_max, dt)\n",
    "\n",
    "@jit # compile the simulator\n",
    "def simulate(params: jnp.ndarray) -> jnp.ndarray:\n",
    "    \"\"\"Simulate the pyloric network.\n",
    "    \n",
    "    Args:\n",
    "        params: The synaptic conductances of shape (7,).\n",
    "        params[[0, 2, 4, 5, 6]]: Glutamatergic synapses.\n",
    "        params[[1, 3]]: Cholinergic synapses.\n",
    "        for details see `PyloricNetwork`.\n",
    "\n",
    "    Returns:\n",
    "        v: The voltages of the pyloric network. Shape (3, num_steps).\n",
    "    \"\"\"\n",
    "    # set the synapse parameters\n",
    "    pstate = None\n",
    "    for i in [0,2,4,5,6]:\n",
    "        pstate = net.select(edges=i).data_set(\"GlutamatergicSynapse_gS\", params[i], pstate)\n",
    "    for i in [1,3]:\n",
    "        pstate = net.select(edges=i).data_set(\"CholinergicSynapse_gS\", params[i], pstate)\n",
    "    \n",
    "    # simulate the network\n",
    "    v = jx.integrate(net, param_state=pstate, t_max=t_max-dt)\n",
    "    return v"
   ]
  },
  {
   "cell_type": "markdown",
   "metadata": {},
   "source": [
    "### Inspect the model\n",
    "Familiarize yourself with the model. Read the code in `pyloric/channels.py`, `pyloric/synapses.py` and `pyloric/model.py` to gain a rough understanding of how it is implemented. You should pay particular attention to `PyloricNetwork`.\n",
    "\n",
    "In addition you can use `.nodes` and `.edges` to inspect the neurons and synapses respectively.\n",
    "\n",
    "Also take a closer look at the imported data and try to understand what you are looking at."
   ]
  },
  {
   "cell_type": "code",
   "execution_count": null,
   "metadata": {},
   "outputs": [],
   "source": [
    "# import and plot the data\n",
    "t_obs, *v_obs = jnp.array(np.loadtxt(\"../data/pyloric_observation.csv\", unpack=True))\n",
    "v_obs = jnp.array(v_obs)\n",
    "fig, axs = plot_pyloric(t_obs, v_obs)\n",
    "plt.show()"
   ]
  },
  {
   "cell_type": "markdown",
   "metadata": {},
   "source": [
    "### Identify suitable synpaptic conductances for the pyloric network\n",
    "In the following task we will try to identify parameters for the pyloric network that reproduce the observed activity from our experimental data. You are free in your choice of method and how you approach this task.\n",
    "\n",
    "**Be careful**, the observation is very long (4s), this makes the simuluator quite expensive to run for many simulations. While developing your code, think about how you can get a way with running it less often or more cheaply. I.e. fit only 1 second (or even less) of the observation and see if it generalizes to the whole observation. Also once you are sure you're pipeline is working, make sure to cache intermediate results to avoid re-running the simulator.\n",
    "\n",
    "\n",
    "Make sure the results you obtain are sound. It is sufficient to do this qualitatively, but bonus points if you can do it quantitatively."
   ]
  },
  {
   "cell_type": "code",
   "execution_count": null,
   "metadata": {},
   "outputs": [],
   "source": [
    "# Here is an example of how to run the simulator\n",
    "param_guess = 0.001*jnp.ones(7)\n",
    "v = simulate(param_guess)\n",
    "fig, axs = plot_pyloric(ts, v)\n",
    "plt.show()"
   ]
  },
  {
   "cell_type": "code",
   "execution_count": 9,
   "metadata": {},
   "outputs": [],
   "source": [
    "# ...and how to parallelize the simulation\n",
    "parallel_simulate = vmap(simulate)\n",
    "key = jax.random.PRNGKey(0)\n",
    "\n",
    "param_batch = param_guess.reshape(1,-1).repeat(5,axis=0) + 0.0001*jax.random.normal(key, (5,7))\n",
    "v_samples = parallel_simulate(param_batch)\n",
    "\n",
    "# ... and how to adapt the simulator to the sbi framework\n",
    "def simulate_for_sbi(theta: Tensor) -> Tensor:\n",
    "    \"\"\"Simulate the pyloric network for the given parameters.\n",
    "    \n",
    "    Args:\n",
    "        theta: The parameters of the synapses. Shape (n_samples,7).\n",
    "        \n",
    "    Returns:\n",
    "        v: The voltages of the pyloric network. Shape (n_samples, 3, num_steps).\n",
    "    \"\"\"\n",
    "    theta = theta.to(torch.float64).numpy()\n",
    "    v = torch.tensor(parallel_simulate(theta)).to(torch.float32)\n",
    "    noise = torch.randn_like(v) * 0.1 # add a bit of observation noise\n",
    "    v += noise\n",
    "    return v"
   ]
  },
  {
   "cell_type": "code",
   "execution_count": null,
   "metadata": {},
   "outputs": [],
   "source": [
    "# implement your pipeline here\n",
    "bounds = (1e-5, 10) # uS\n"
   ]
  }
 ],
 "metadata": {
  "kernelspec": {
   "display_name": ".venv",
   "language": "python",
   "name": "python3"
  },
  "language_info": {
   "codemirror_mode": {
    "name": "ipython",
    "version": 3
   },
   "file_extension": ".py",
   "mimetype": "text/x-python",
   "name": "python",
   "nbconvert_exporter": "python",
   "pygments_lexer": "ipython3",
   "version": "3.12.8"
  }
 },
 "nbformat": 4,
 "nbformat_minor": 2
}
